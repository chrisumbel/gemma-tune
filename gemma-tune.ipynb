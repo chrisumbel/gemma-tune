{
 "cells": [
  {
   "cell_type": "code",
   "execution_count": 1,
   "id": "6239845c",
   "metadata": {},
   "outputs": [],
   "source": [
    "import dotenv\n",
    "dotenv.load_dotenv()\n",
    "import os\n",
    "import weave\n",
    "import wandb"
   ]
  },
  {
   "cell_type": "code",
   "execution_count": 2,
   "id": "b47c5770",
   "metadata": {},
   "outputs": [
    {
     "name": "stderr",
     "output_type": "stream",
     "text": [
      "\u001b[34m\u001b[1mwandb\u001b[0m: \u001b[33mWARNING\u001b[0m If you're specifying your api key in code, ensure this code is not shared publicly.\n",
      "\u001b[34m\u001b[1mwandb\u001b[0m: \u001b[33mWARNING\u001b[0m Consider setting the WANDB_API_KEY environment variable, or running `wandb login` from the command line.\n",
      "\u001b[34m\u001b[1mwandb\u001b[0m: Appending key for zscalersre.wandb.io to your netrc file: /home/kilnaar/.netrc\n",
      "\u001b[34m\u001b[1mwandb\u001b[0m: Currently logged in as: \u001b[33mcumbel\u001b[0m (\u001b[33mjune-pov\u001b[0m) to \u001b[32mhttps://zscalersre.wandb.io\u001b[0m. Use \u001b[1m`wandb login --relogin`\u001b[0m to force relogin\n"
     ]
    },
    {
     "data": {
      "text/plain": [
       "True"
      ]
     },
     "execution_count": 2,
     "metadata": {},
     "output_type": "execute_result"
    }
   ],
   "source": [
    "wandb.login(key = os.getenv(\"WANDB_API_KEY\"))"
   ]
  },
  {
   "cell_type": "code",
   "execution_count": 3,
   "id": "2baa4d96",
   "metadata": {},
   "outputs": [
    {
     "data": {
      "text/html": [
       "Tracking run with wandb version 0.21.0"
      ],
      "text/plain": [
       "<IPython.core.display.HTML object>"
      ]
     },
     "metadata": {},
     "output_type": "display_data"
    },
    {
     "data": {
      "text/html": [
       "Run data is saved locally in <code>/home/kilnaar/src/gemma-tune/wandb/run-20250707_234902-bnaxr1g9</code>"
      ],
      "text/plain": [
       "<IPython.core.display.HTML object>"
      ]
     },
     "metadata": {},
     "output_type": "display_data"
    },
    {
     "data": {
      "text/html": [
       "Syncing run <strong><a href='https://zscalersre.wandb.io/june-pov/gemma-tuner/runs/bnaxr1g9' target=\"_blank\">true-monkey-28</a></strong> to <a href='https://zscalersre.wandb.io/june-pov/gemma-tuner' target=\"_blank\">Weights & Biases</a> (<a href='https://wandb.me/developer-guide' target=\"_blank\">docs</a>)<br>"
      ],
      "text/plain": [
       "<IPython.core.display.HTML object>"
      ]
     },
     "metadata": {},
     "output_type": "display_data"
    },
    {
     "data": {
      "text/html": [
       " View project at <a href='https://zscalersre.wandb.io/june-pov/gemma-tuner' target=\"_blank\">https://zscalersre.wandb.io/june-pov/gemma-tuner</a>"
      ],
      "text/plain": [
       "<IPython.core.display.HTML object>"
      ]
     },
     "metadata": {},
     "output_type": "display_data"
    },
    {
     "data": {
      "text/html": [
       " View run at <a href='https://zscalersre.wandb.io/june-pov/gemma-tuner/runs/bnaxr1g9' target=\"_blank\">https://zscalersre.wandb.io/june-pov/gemma-tuner/runs/bnaxr1g9</a>"
      ],
      "text/plain": [
       "<IPython.core.display.HTML object>"
      ]
     },
     "metadata": {},
     "output_type": "display_data"
    },
    {
     "name": "stderr",
     "output_type": "stream",
     "text": [
      "/home/kilnaar/anaconda3/envs/gemma-tune/lib/python3.11/site-packages/tqdm/auto.py:21: TqdmWarning: IProgress not found. Please update jupyter and ipywidgets. See https://ipywidgets.readthedocs.io/en/stable/user_install.html\n",
      "  from .autonotebook import tqdm as notebook_tqdm\n",
      "\u001b[36m\u001b[1mweave\u001b[0m: Logged in as Weights & Biases user: cumbel.\n",
      "\u001b[36m\u001b[1mweave\u001b[0m: View Weave data at https://zscalersre.wandb.io/june-pov/gemma-tuner/weave\n"
     ]
    },
    {
     "data": {
      "text/plain": [
       "<weave.trace.weave_client.WeaveClient at 0x7907f60af310>"
      ]
     },
     "execution_count": 3,
     "metadata": {},
     "output_type": "execute_result"
    }
   ],
   "source": [
    "wandb.init(entity = \"june-pov\", project = \"gemma-tuner\")\n",
    "weave.init(\"gemma-tuner\")"
   ]
  },
  {
   "cell_type": "code",
   "execution_count": 4,
   "id": "3697af90-827e-4a60-8977-fd18262d5c26",
   "metadata": {},
   "outputs": [],
   "source": [
    "from datasets import load_dataset\n",
    "from transformers import (\n",
    "    AutoModelForCausalLM, AutoTokenizer, TrainingArguments\n",
    ")\n",
    "from peft import LoraConfig, get_peft_model, TaskType, AutoPeftModelForCausalLM\n",
    "from trl import SFTTrainer\n",
    "import torch"
   ]
  },
  {
   "cell_type": "markdown",
   "id": "9354a280",
   "metadata": {},
   "source": [
    "## Base Model"
   ]
  },
  {
   "cell_type": "code",
   "execution_count": 5,
   "id": "74233217",
   "metadata": {},
   "outputs": [
    {
     "name": "stderr",
     "output_type": "stream",
     "text": [
      "The `load_in_4bit` and `load_in_8bit` arguments are deprecated and will be removed in the future versions. Please, pass a `BitsAndBytesConfig` object in `quantization_config` argument instead.\n",
      "Loading checkpoint shards: 100%|██████████████████████████████████████████████████████████████████████████████████████| 2/2 [00:01<00:00,  1.70it/s]\n",
      "We've detected an older driver with an RTX 4000 series GPU. These drivers have issues with P2P. This can affect the multi-gpu inference when using accelerate device_map.Please make sure to update your driver to the latest version which resolves this.\n"
     ]
    }
   ],
   "source": [
    "model_id = \"google/gemma-2b\"\n",
    "tokenizer = AutoTokenizer.from_pretrained(model_id, use_fast = True)\n",
    "model = AutoModelForCausalLM.from_pretrained(\n",
    "    model_id,\n",
    "    load_in_8bit = True,\n",
    "    device_map = \"auto\",\n",
    "    torch_dtype = torch.bfloat16\n",
    ")"
   ]
  },
  {
   "cell_type": "markdown",
   "id": "2558228d",
   "metadata": {},
   "source": [
    "## Adapter Training Setup"
   ]
  },
  {
   "cell_type": "code",
   "execution_count": 6,
   "id": "02a9e515",
   "metadata": {},
   "outputs": [],
   "source": [
    "adapt_to_ds = load_dataset(\"Abirate/english_quotes\", split = \"train[:2%]\")\n",
    "target_adapter_name = \"test-gemma-lora-adapter\""
   ]
  },
  {
   "cell_type": "code",
   "execution_count": 7,
   "id": "dc0fbb57",
   "metadata": {},
   "outputs": [
    {
     "name": "stderr",
     "output_type": "stream",
     "text": [
      "No label_names provided for model class `PeftModelForCausalLM`. Since `PeftModel` hides base models input arguments, if label_names is not given, label_names can't be set automatically within `Trainer`. Note that empty label_names list will be used instead.\n"
     ]
    }
   ],
   "source": [
    "def format_fn(ex):\n",
    "    return f\"Quote: {ex['quote']}\\nAuthor: {ex['author']}\"\n",
    "\n",
    "lora_cfg = LoraConfig(\n",
    "    r = 8,\n",
    "    lora_alpha = 16,\n",
    "    lora_dropout = 0.05,\n",
    "    bias = \"none\",\n",
    "    target_modules = [\"q_proj\", \"k_proj\", \"v_proj\", \"o_proj\"],\n",
    "    task_type = TaskType.CAUSAL_LM,\n",
    ")\n",
    "\n",
    "model = get_peft_model(model, lora_cfg)\n",
    "\n",
    "# --- Training -----------------------------------------------------\n",
    "args = TrainingArguments(\n",
    "    output_dir = target_adapter_name,\n",
    "    per_device_train_batch_size = 4,\n",
    "    num_train_epochs = 3,\n",
    "    gradient_accumulation_steps = 4,\n",
    "    learning_rate = 2e-4,\n",
    "    fp16 = True,\n",
    "    logging_steps = 10,\n",
    "    save_steps = 100,\n",
    "    save_total_limit = 2,\n",
    ")\n",
    "\n",
    "trainer = SFTTrainer(\n",
    "    model = model,\n",
    "    args = args,\n",
    "    train_dataset = adapt_to_ds,\n",
    "    formatting_func = format_fn,\n",
    "    processing_class = tokenizer,\n",
    ")\n"
   ]
  },
  {
   "cell_type": "markdown",
   "id": "bf6a1f67",
   "metadata": {},
   "source": [
    "## "
   ]
  },
  {
   "cell_type": "markdown",
   "id": "d8afd027",
   "metadata": {},
   "source": [
    "## Training"
   ]
  },
  {
   "cell_type": "code",
   "execution_count": 8,
   "id": "253ff51c",
   "metadata": {},
   "outputs": [
    {
     "name": "stderr",
     "output_type": "stream",
     "text": [
      "\u001b[34m\u001b[1mwandb\u001b[0m: \u001b[33mWARNING\u001b[0m The `run_name` is currently set to the same value as `TrainingArguments.output_dir`. If this was not intended, please specify a different run name by setting the `TrainingArguments.run_name` parameter.\n",
      "/home/kilnaar/anaconda3/envs/gemma-tune/lib/python3.11/site-packages/bitsandbytes/autograd/_functions.py:185: UserWarning: MatMul8bitLt: inputs will be cast from torch.bfloat16 to float16 during quantization\n",
      "  warnings.warn(f\"MatMul8bitLt: inputs will be cast from {A.dtype} to float16 during quantization\")\n",
      "/home/kilnaar/anaconda3/envs/gemma-tune/lib/python3.11/site-packages/bitsandbytes/autograd/_functions.py:185: UserWarning: MatMul8bitLt: inputs will be cast from torch.float32 to float16 during quantization\n",
      "  warnings.warn(f\"MatMul8bitLt: inputs will be cast from {A.dtype} to float16 during quantization\")\n"
     ]
    },
    {
     "data": {
      "text/html": [
       "\n",
       "    <div>\n",
       "      \n",
       "      <progress value='12' max='12' style='width:300px; height:20px; vertical-align: middle;'></progress>\n",
       "      [12/12 00:06, Epoch 3/3]\n",
       "    </div>\n",
       "    <table border=\"1\" class=\"dataframe\">\n",
       "  <thead>\n",
       " <tr style=\"text-align: left;\">\n",
       "      <th>Step</th>\n",
       "      <th>Training Loss</th>\n",
       "    </tr>\n",
       "  </thead>\n",
       "  <tbody>\n",
       "    <tr>\n",
       "      <td>10</td>\n",
       "      <td>1.388300</td>\n",
       "    </tr>\n",
       "  </tbody>\n",
       "</table><p>"
      ],
      "text/plain": [
       "<IPython.core.display.HTML object>"
      ]
     },
     "metadata": {},
     "output_type": "display_data"
    },
    {
     "name": "stderr",
     "output_type": "stream",
     "text": [
      "\u001b[34m\u001b[1mwandb\u001b[0m: \u001b[33mWARNING\u001b[0m The get_url method is deprecated and will be removed in a future release. Please use `run.url` instead.\n"
     ]
    },
    {
     "data": {
      "text/plain": [
       "TrainOutput(global_step=12, training_loss=1.3652624487876892, metrics={'train_runtime': 7.8772, 'train_samples_per_second': 19.042, 'train_steps_per_second': 1.523, 'total_flos': 164181232410624.0, 'train_loss': 1.3652624487876892})"
      ]
     },
     "execution_count": 8,
     "metadata": {},
     "output_type": "execute_result"
    }
   ],
   "source": [
    "trainer.train()"
   ]
  },
  {
   "cell_type": "code",
   "execution_count": 9,
   "id": "ac2e4926",
   "metadata": {},
   "outputs": [
    {
     "data": {
      "text/plain": [
       "('test-gemma-lora-adapter/tokenizer_config.json',\n",
       " 'test-gemma-lora-adapter/special_tokens_map.json',\n",
       " 'test-gemma-lora-adapter/tokenizer.model',\n",
       " 'test-gemma-lora-adapter/added_tokens.json',\n",
       " 'test-gemma-lora-adapter/tokenizer.json')"
      ]
     },
     "execution_count": 9,
     "metadata": {},
     "output_type": "execute_result"
    }
   ],
   "source": [
    "model.save_pretrained(target_adapter_name)\n",
    "tokenizer.save_pretrained(target_adapter_name)"
   ]
  },
  {
   "cell_type": "markdown",
   "id": "e460283b",
   "metadata": {},
   "source": [
    "## Inference"
   ]
  },
  {
   "cell_type": "code",
   "execution_count": 10,
   "id": "418cc25a",
   "metadata": {},
   "outputs": [
    {
     "name": "stderr",
     "output_type": "stream",
     "text": [
      "Loading checkpoint shards: 100%|██████████████████████████████████████████████████████████████████████████████████████| 2/2 [00:00<00:00,  4.03it/s]\n"
     ]
    }
   ],
   "source": [
    "ft_model = AutoPeftModelForCausalLM.from_pretrained(\n",
    "    target_adapter_name,\n",
    "    torch_dtype=torch.bfloat16,\n",
    "    device_map=\"auto\",\n",
    ")\n",
    "\n",
    "@weave.op()\n",
    "def analyze_quote(quote):\n",
    "    prompt = f\"Quote: {quote}\\nAuthor:\"\n",
    "    return tokenizer.decode(ft_model.generate(\n",
    "        **tokenizer(prompt, return_tensors=\"pt\").to(ft_model.device),\n",
    "        max_new_tokens=16)[0], skip_special_tokens=True)"
   ]
  },
  {
   "cell_type": "code",
   "execution_count": 11,
   "id": "07c80f25-581a-490d-a4f2-e47eecd228bc",
   "metadata": {},
   "outputs": [
    {
     "name": "stderr",
     "output_type": "stream",
     "text": [
      "\u001b[36m\u001b[1mweave\u001b[0m: 🍩 https://zscalersre.wandb.io/june-pov/gemma-tuner/r/call/0197e827-063e-7202-8f4f-8ad8e4e6e400\n"
     ]
    },
    {
     "name": "stdout",
     "output_type": "stream",
     "text": [
      "Quote: We have nothing to fear but fear itself\n",
      "Author: Franklin D. Roosevelt\n",
      "Source: The New York Times, 193\n"
     ]
    },
    {
     "name": "stderr",
     "output_type": "stream",
     "text": [
      "\u001b[36m\u001b[1mweave\u001b[0m: 🍩 https://zscalersre.wandb.io/june-pov/gemma-tuner/r/call/0197e827-07d7-7348-b937-e0dbc2d13423\n",
      "\u001b[36m\u001b[1mweave\u001b[0m: 🍩 https://zscalersre.wandb.io/june-pov/gemma-tuner/r/call/0197e827-0931-78f8-9f39-8c998748d424\n"
     ]
    }
   ],
   "source": [
    "print(analyze_quote(\"We have nothing to fear but fear itself\"))"
   ]
  },
  {
   "cell_type": "code",
   "execution_count": 12,
   "id": "a547cb93",
   "metadata": {},
   "outputs": [
    {
     "name": "stdout",
     "output_type": "stream",
     "text": [
      "Quote: We choose to go to the moon\n",
      "Author: John F. Kennedy\n",
      "Source: NASA\n",
      "\n",
      "The moon is a symbol of the\n"
     ]
    }
   ],
   "source": [
    "print(analyze_quote(\"We choose to go to the moon\"))"
   ]
  },
  {
   "cell_type": "code",
   "execution_count": 13,
   "id": "fb69e4bf-4a9e-40fd-b2a4-bb3619380b33",
   "metadata": {},
   "outputs": [
    {
     "name": "stdout",
     "output_type": "stream",
     "text": [
      "Quote: In the end, it’s not the years in your life that count. It’s the life in your years\n",
      "Author: Abraham Lincoln\n",
      "Source: https://www.goodreads.com/quotes/\n"
     ]
    }
   ],
   "source": [
    "print(analyze_quote(\"In the end, it’s not the years in your life that count. It’s the life in your years\"))"
   ]
  },
  {
   "cell_type": "markdown",
   "id": "c44efdc6-270e-4c7a-abd6-961e3a77dd17",
   "metadata": {},
   "source": [
    "# Save to model registry"
   ]
  },
  {
   "cell_type": "code",
   "execution_count": 14,
   "id": "2dc026a0-0bfb-4adb-b17a-eb0234a3a73f",
   "metadata": {},
   "outputs": [
    {
     "data": {
      "text/html": [
       "Finishing previous runs because reinit is set to 'default'."
      ],
      "text/plain": [
       "<IPython.core.display.HTML object>"
      ]
     },
     "metadata": {},
     "output_type": "display_data"
    },
    {
     "data": {
      "text/html": [],
      "text/plain": [
       "<IPython.core.display.HTML object>"
      ]
     },
     "metadata": {},
     "output_type": "display_data"
    },
    {
     "data": {
      "text/html": [
       "<br>    <style><br>        .wandb-row {<br>            display: flex;<br>            flex-direction: row;<br>            flex-wrap: wrap;<br>            justify-content: flex-start;<br>            width: 100%;<br>        }<br>        .wandb-col {<br>            display: flex;<br>            flex-direction: column;<br>            flex-basis: 100%;<br>            flex: 1;<br>            padding: 10px;<br>        }<br>    </style><br><div class=\"wandb-row\"><div class=\"wandb-col\"><h3>Run history:</h3><br/><table class=\"wandb\"><tr><td>train/epoch</td><td>▁█</td></tr><tr><td>train/global_step</td><td>▁█</td></tr><tr><td>train/grad_norm</td><td>▁</td></tr><tr><td>train/learning_rate</td><td>▁</td></tr><tr><td>train/loss</td><td>▁</td></tr><tr><td>train/mean_token_accuracy</td><td>▁█</td></tr><tr><td>train/num_tokens</td><td>▁█</td></tr></table><br/></div><div class=\"wandb-col\"><h3>Run summary:</h3><br/><table class=\"wandb\"><tr><td>total_flos</td><td>164181232410624.0</td></tr><tr><td>train/epoch</td><td>3</td></tr><tr><td>train/global_step</td><td>12</td></tr><tr><td>train/grad_norm</td><td>0.80905</td></tr><tr><td>train/learning_rate</td><td>5e-05</td></tr><tr><td>train/loss</td><td>1.3883</td></tr><tr><td>train/mean_token_accuracy</td><td>0.7378</td></tr><tr><td>train/num_tokens</td><td>7023</td></tr><tr><td>train_loss</td><td>1.36526</td></tr><tr><td>train_runtime</td><td>7.8772</td></tr><tr><td>train_samples_per_second</td><td>19.042</td></tr><tr><td>train_steps_per_second</td><td>1.523</td></tr></table><br/></div></div>"
      ],
      "text/plain": [
       "<IPython.core.display.HTML object>"
      ]
     },
     "metadata": {},
     "output_type": "display_data"
    },
    {
     "data": {
      "text/html": [
       " View run <strong style=\"color:#cdcd00\">true-monkey-28</strong> at: <a href='https://zscalersre.wandb.io/june-pov/gemma-tuner/runs/bnaxr1g9' target=\"_blank\">https://zscalersre.wandb.io/june-pov/gemma-tuner/runs/bnaxr1g9</a><br> View project at: <a href='https://zscalersre.wandb.io/june-pov/gemma-tuner' target=\"_blank\">https://zscalersre.wandb.io/june-pov/gemma-tuner</a><br>Synced 7 W&B file(s), 0 media file(s), 2 artifact file(s) and 0 other file(s)"
      ],
      "text/plain": [
       "<IPython.core.display.HTML object>"
      ]
     },
     "metadata": {},
     "output_type": "display_data"
    },
    {
     "data": {
      "text/html": [
       "Find logs at: <code>./wandb/run-20250707_234902-bnaxr1g9/logs</code>"
      ],
      "text/plain": [
       "<IPython.core.display.HTML object>"
      ]
     },
     "metadata": {},
     "output_type": "display_data"
    },
    {
     "data": {
      "text/html": [
       "Tracking run with wandb version 0.21.0"
      ],
      "text/plain": [
       "<IPython.core.display.HTML object>"
      ]
     },
     "metadata": {},
     "output_type": "display_data"
    },
    {
     "data": {
      "text/html": [
       "Run data is saved locally in <code>/home/kilnaar/src/gemma-tune/wandb/run-20250707_234922-k55wjdxv</code>"
      ],
      "text/plain": [
       "<IPython.core.display.HTML object>"
      ]
     },
     "metadata": {},
     "output_type": "display_data"
    },
    {
     "data": {
      "text/html": [
       "Syncing run <strong><a href='https://zscalersre.wandb.io/june-pov/gemma-tuner/runs/k55wjdxv' target=\"_blank\">daily-energy-29</a></strong> to <a href='https://zscalersre.wandb.io/june-pov/gemma-tuner' target=\"_blank\">Weights & Biases</a> (<a href='https://wandb.me/developer-guide' target=\"_blank\">docs</a>)<br>"
      ],
      "text/plain": [
       "<IPython.core.display.HTML object>"
      ]
     },
     "metadata": {},
     "output_type": "display_data"
    },
    {
     "data": {
      "text/html": [
       " View project at <a href='https://zscalersre.wandb.io/june-pov/gemma-tuner' target=\"_blank\">https://zscalersre.wandb.io/june-pov/gemma-tuner</a>"
      ],
      "text/plain": [
       "<IPython.core.display.HTML object>"
      ]
     },
     "metadata": {},
     "output_type": "display_data"
    },
    {
     "data": {
      "text/html": [
       " View run at <a href='https://zscalersre.wandb.io/june-pov/gemma-tuner/runs/k55wjdxv' target=\"_blank\">https://zscalersre.wandb.io/june-pov/gemma-tuner/runs/k55wjdxv</a>"
      ],
      "text/plain": [
       "<IPython.core.display.HTML object>"
      ]
     },
     "metadata": {},
     "output_type": "display_data"
    },
    {
     "name": "stderr",
     "output_type": "stream",
     "text": [
      "\u001b[34m\u001b[1mwandb\u001b[0m: Adding directory to artifact (./test-gemma-lora-adapter)... Done. 0.1s\n"
     ]
    },
    {
     "data": {
      "text/html": [],
      "text/plain": [
       "<IPython.core.display.HTML object>"
      ]
     },
     "metadata": {},
     "output_type": "display_data"
    },
    {
     "data": {
      "text/html": [
       " View run <strong style=\"color:#cdcd00\">daily-energy-29</strong> at: <a href='https://zscalersre.wandb.io/june-pov/gemma-tuner/runs/k55wjdxv' target=\"_blank\">https://zscalersre.wandb.io/june-pov/gemma-tuner/runs/k55wjdxv</a><br> View project at: <a href='https://zscalersre.wandb.io/june-pov/gemma-tuner' target=\"_blank\">https://zscalersre.wandb.io/june-pov/gemma-tuner</a><br>Synced 7 W&B file(s), 0 media file(s), 9 artifact file(s) and 0 other file(s)"
      ],
      "text/plain": [
       "<IPython.core.display.HTML object>"
      ]
     },
     "metadata": {},
     "output_type": "display_data"
    },
    {
     "data": {
      "text/html": [
       "Find logs at: <code>./wandb/run-20250707_234922-k55wjdxv/logs</code>"
      ],
      "text/plain": [
       "<IPython.core.display.HTML object>"
      ]
     },
     "metadata": {},
     "output_type": "display_data"
    }
   ],
   "source": [
    "from pathlib import Path\n",
    "import wandb\n",
    "\n",
    "run = wandb.init(project = \"gemma-tuner\")\n",
    "\n",
    "artifact_filepath = 'test-gemma-lora-adapter'\n",
    "\n",
    "logged_artifact = run.log_artifact(\n",
    "  artifact_filepath,\n",
    "  \"target_adapter_name\",\n",
    "  type=\"ModelAdapter\"\n",
    ")\n",
    "run.link_artifact(   \n",
    "  artifact = logged_artifact,  \n",
    "  target_path = \"june-pov/model-registry/test-gemma-lora-adapter\"\n",
    ")\n",
    "run.finish()"
   ]
  },
  {
   "cell_type": "code",
   "execution_count": null,
   "id": "39b7044b-d2c5-41d7-98cf-404cb7dcb5f8",
   "metadata": {},
   "outputs": [],
   "source": []
  }
 ],
 "metadata": {
  "kernelspec": {
   "display_name": "Python 3 (ipykernel)",
   "language": "python",
   "name": "python3"
  },
  "language_info": {
   "codemirror_mode": {
    "name": "ipython",
    "version": 3
   },
   "file_extension": ".py",
   "mimetype": "text/x-python",
   "name": "python",
   "nbconvert_exporter": "python",
   "pygments_lexer": "ipython3",
   "version": "3.11.13"
  }
 },
 "nbformat": 4,
 "nbformat_minor": 5
}
