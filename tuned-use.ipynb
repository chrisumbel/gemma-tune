{
 "cells": [
  {
   "cell_type": "code",
   "execution_count": 1,
   "id": "cb87f84c-397f-4457-aeae-3af2cf6cb7ea",
   "metadata": {},
   "outputs": [],
   "source": [
    "import dotenv\n",
    "dotenv.load_dotenv()\n",
    "import os\n",
    "import weave\n",
    "import wandb"
   ]
  },
  {
   "cell_type": "code",
   "execution_count": 2,
   "id": "aac7b7f6-b421-4c94-aeba-4d608ad92a4c",
   "metadata": {},
   "outputs": [
    {
     "name": "stderr",
     "output_type": "stream",
     "text": [
      "/home/kilnaar/anaconda3/envs/gemma-tune/lib/python3.11/site-packages/tqdm/auto.py:21: TqdmWarning: IProgress not found. Please update jupyter and ipywidgets. See https://ipywidgets.readthedocs.io/en/stable/user_install.html\n",
      "  from .autonotebook import tqdm as notebook_tqdm\n"
     ]
    }
   ],
   "source": [
    "from datasets import load_dataset\n",
    "from transformers import (\n",
    "    AutoModelForCausalLM, AutoTokenizer, TrainingArguments\n",
    ")\n",
    "from peft import LoraConfig, get_peft_model, TaskType, AutoPeftModelForCausalLM\n",
    "from trl import SFTTrainer\n",
    "import torch"
   ]
  },
  {
   "cell_type": "code",
   "execution_count": 3,
   "id": "7f3ea49f-007c-47d6-954a-0d6b7502d02d",
   "metadata": {},
   "outputs": [
    {
     "name": "stderr",
     "output_type": "stream",
     "text": [
      "\u001b[34m\u001b[1mwandb\u001b[0m: \u001b[33mWARNING\u001b[0m If you're specifying your api key in code, ensure this code is not shared publicly.\n",
      "\u001b[34m\u001b[1mwandb\u001b[0m: \u001b[33mWARNING\u001b[0m Consider setting the WANDB_API_KEY environment variable, or running `wandb login` from the command line.\n",
      "\u001b[34m\u001b[1mwandb\u001b[0m: Appending key for zscalersre.wandb.io to your netrc file: /home/kilnaar/.netrc\n",
      "\u001b[34m\u001b[1mwandb\u001b[0m: Currently logged in as: \u001b[33mcumbel\u001b[0m (\u001b[33mjune-pov\u001b[0m) to \u001b[32mhttps://zscalersre.wandb.io\u001b[0m. Use \u001b[1m`wandb login --relogin`\u001b[0m to force relogin\n"
     ]
    },
    {
     "data": {
      "text/html": [
       "Tracking run with wandb version 0.21.0"
      ],
      "text/plain": [
       "<IPython.core.display.HTML object>"
      ]
     },
     "metadata": {},
     "output_type": "display_data"
    },
    {
     "data": {
      "text/html": [
       "Run data is saved locally in <code>/home/kilnaar/src/gemma-tune/wandb/run-20250708_171748-rkxa3hyl</code>"
      ],
      "text/plain": [
       "<IPython.core.display.HTML object>"
      ]
     },
     "metadata": {},
     "output_type": "display_data"
    },
    {
     "data": {
      "text/html": [
       "Syncing run <strong><a href='https://zscalersre.wandb.io/june-pov/tuned-use/runs/rkxa3hyl' target=\"_blank\">feasible-pyramid-13</a></strong> to <a href='https://zscalersre.wandb.io/june-pov/tuned-use' target=\"_blank\">Weights & Biases</a> (<a href='https://wandb.me/developer-guide' target=\"_blank\">docs</a>)<br>"
      ],
      "text/plain": [
       "<IPython.core.display.HTML object>"
      ]
     },
     "metadata": {},
     "output_type": "display_data"
    },
    {
     "data": {
      "text/html": [
       " View project at <a href='https://zscalersre.wandb.io/june-pov/tuned-use' target=\"_blank\">https://zscalersre.wandb.io/june-pov/tuned-use</a>"
      ],
      "text/plain": [
       "<IPython.core.display.HTML object>"
      ]
     },
     "metadata": {},
     "output_type": "display_data"
    },
    {
     "data": {
      "text/html": [
       " View run at <a href='https://zscalersre.wandb.io/june-pov/tuned-use/runs/rkxa3hyl' target=\"_blank\">https://zscalersre.wandb.io/june-pov/tuned-use/runs/rkxa3hyl</a>"
      ],
      "text/plain": [
       "<IPython.core.display.HTML object>"
      ]
     },
     "metadata": {},
     "output_type": "display_data"
    }
   ],
   "source": [
    "wandb.login(key = os.getenv(\"WANDB_API_KEY\"))\n",
    "run = wandb.init(entity = \"june-pov\", project = \"tuned-use\")"
   ]
  },
  {
   "cell_type": "code",
   "execution_count": 4,
   "id": "c0aac9a8-e6d1-4db2-802c-fd3aad6e5852",
   "metadata": {},
   "outputs": [],
   "source": [
    "target_adapter_name = \"test-gemma-lora-adapter\""
   ]
  },
  {
   "cell_type": "markdown",
   "id": "97925008-e1ce-4dff-a80a-3b12bcd3b42c",
   "metadata": {},
   "source": [
    "# Download adapted model"
   ]
  },
  {
   "cell_type": "code",
   "execution_count": 5,
   "id": "baf3b381-1d7c-4929-90c5-96a1642417a2",
   "metadata": {},
   "outputs": [
    {
     "name": "stderr",
     "output_type": "stream",
     "text": [
      "\u001b[34m\u001b[1mwandb\u001b[0m: Downloading large artifact test-gemma-lora-adapter:latest, 160.11MB. 33 files... \n",
      "\u001b[34m\u001b[1mwandb\u001b[0m:   33 of 33 files downloaded.  \n",
      "Done. 0:0:0.5 (331.3MB/s)\n"
     ]
    }
   ],
   "source": [
    "path = run.use_artifact(\"june-pov/model-registry/test-gemma-lora-adapter:latest\").download()"
   ]
  },
  {
   "cell_type": "markdown",
   "id": "a6777042-5337-4251-b591-86ec65736bfd",
   "metadata": {},
   "source": [
    "# Load model"
   ]
  },
  {
   "cell_type": "code",
   "execution_count": 6,
   "id": "711f4057-2cb1-46f2-915d-1be169014474",
   "metadata": {},
   "outputs": [
    {
     "name": "stderr",
     "output_type": "stream",
     "text": [
      "Loading checkpoint shards: 100%|██████████| 2/2 [00:00<00:00,  3.96it/s]\n",
      "We've detected an older driver with an RTX 4000 series GPU. These drivers have issues with P2P. This can affect the multi-gpu inference when using accelerate device_map.Please make sure to update your driver to the latest version which resolves this.\n"
     ]
    }
   ],
   "source": [
    "ft_model = AutoPeftModelForCausalLM.from_pretrained(\n",
    "    target_adapter_name,\n",
    "    torch_dtype = torch.bfloat16,\n",
    "    device_map = \"auto\",\n",
    ")\n",
    "\n",
    "tokenizer  = AutoTokenizer.from_pretrained(target_adapter_name)"
   ]
  },
  {
   "cell_type": "markdown",
   "id": "864f63c6-b0e1-4314-a0e7-22858beb08b1",
   "metadata": {},
   "source": [
    "# Inference"
   ]
  },
  {
   "cell_type": "code",
   "execution_count": 7,
   "id": "eaeaed86-5043-4f52-b651-8da9b04a3ce5",
   "metadata": {},
   "outputs": [],
   "source": [
    "@weave.op()\n",
    "def analyze_quote(quote):\n",
    "    prompt = f\"Quote: {quote}\\nAuthor:\"\n",
    "    return tokenizer.decode(ft_model.generate(\n",
    "        **tokenizer(prompt, return_tensors=\"pt\").to(ft_model.device),\n",
    "        max_new_tokens=16)[0], skip_special_tokens=True)"
   ]
  },
  {
   "cell_type": "code",
   "execution_count": 8,
   "id": "f04e5f2f-ffff-43f1-b377-2b59bff022f5",
   "metadata": {},
   "outputs": [
    {
     "name": "stderr",
     "output_type": "stream",
     "text": [
      "Warning: Traces will not be logged. Call weave.init to log your traces to a project.\n",
      " (subsequent messages of this type will be suppressed)\n"
     ]
    },
    {
     "name": "stdout",
     "output_type": "stream",
     "text": [
      "Quote: We have nothing to fear but fear itself\n",
      "Author: Franklin D. Roosevelt\n",
      "Source: The New York Times, 193\n"
     ]
    }
   ],
   "source": [
    "print(analyze_quote(\"We have nothing to fear but fear itself\"))"
   ]
  },
  {
   "cell_type": "code",
   "execution_count": 9,
   "id": "30063288-906d-4d88-b814-d1552a3c8cb8",
   "metadata": {},
   "outputs": [
    {
     "name": "stdout",
     "output_type": "stream",
     "text": [
      "Quote: Early to bed and early to rise makes a man healthy, wealthy, and wise\n",
      "Author: Benjamin Franklin\n",
      "Category: Health\n",
      "Source: The Franklin Reader\n",
      "Date: \n"
     ]
    }
   ],
   "source": [
    "print(analyze_quote(\"Early to bed and early to rise makes a man healthy, wealthy, and wise\"))"
   ]
  },
  {
   "cell_type": "code",
   "execution_count": 10,
   "id": "c8273c6c-7387-4061-adc1-22d49b179264",
   "metadata": {},
   "outputs": [
    {
     "name": "stdout",
     "output_type": "stream",
     "text": [
      "Quote: An ounce of prevention is worth a pound of cure\n",
      "Author: Benjamin Franklin\n",
      "Category: Health\n",
      "Source: The Franklin Reader\n",
      "Date: \n"
     ]
    }
   ],
   "source": [
    "print(analyze_quote(\"An ounce of prevention is worth a pound of cure\"))"
   ]
  },
  {
   "cell_type": "code",
   "execution_count": null,
   "id": "185789a9-d2c2-4281-908f-d3bdf7d0a575",
   "metadata": {},
   "outputs": [],
   "source": []
  }
 ],
 "metadata": {
  "kernelspec": {
   "display_name": "gemma-tune",
   "language": "python",
   "name": "python3"
  },
  "language_info": {
   "codemirror_mode": {
    "name": "ipython",
    "version": 3
   },
   "file_extension": ".py",
   "mimetype": "text/x-python",
   "name": "python",
   "nbconvert_exporter": "python",
   "pygments_lexer": "ipython3",
   "version": "3.11.13"
  }
 },
 "nbformat": 4,
 "nbformat_minor": 5
}
